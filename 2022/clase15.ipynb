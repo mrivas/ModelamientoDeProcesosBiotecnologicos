{
 "cells": [
  {
   "cell_type": "code",
   "execution_count": null,
   "id": "8de70fa5",
   "metadata": {},
   "outputs": [],
   "source": []
  },
  {
   "cell_type": "code",
   "execution_count": null,
   "id": "51932ddd",
   "metadata": {},
   "outputs": [],
   "source": []
  },
  {
   "cell_type": "code",
   "execution_count": 9,
   "id": "6387b48c",
   "metadata": {},
   "outputs": [],
   "source": [
    "# Data based on:\n",
    "# https://doi.org/10.1016/j.ymben.2014.07.004\n",
    "# Libraries for the Dynamic block\n",
    "import numpy as np\n",
    "from scipy.integrate import odeint\n",
    "# Libraries for the Metabolic block\n",
    "import cobra\n",
    "model=cobra.io.read_sbml_model(\"iMM904.xml\")\n",
    "# Plotting libraries\n",
    "import matplotlib.pyplot as plt"
   ]
  },
  {
   "cell_type": "code",
   "execution_count": 2,
   "id": "2c14e7a5",
   "metadata": {},
   "outputs": [],
   "source": [
    "# Kinetic block\n",
    "def kineticBlock(Ox,Eth):\n",
    "    # Parameters\n",
    "    f_Eth,f_Gly, f_Cit, f_Lac = .112, .273, .169, .137\n",
    "    \n",
    "    #vGmax, K_Glu, K_Eth = 22.5, 0.88, 6.74\n",
    "    #v_Glu=vGmax*Glu/(K_Glu+Glu)*1/(1+Eth/K_Eth)\n",
    "    \n",
    "    vOmax, K_O = 22.5,0.88\n",
    "    v_Ox=vOxmax*Ox/(K_Ox+Ox)\n",
    "    LB_Eth = -v_Ox*f_Eth\n",
    "    LB_Gly = -v_Ox*f_Gly\n",
    "    LB_Cit = -v_Ox*f_Cit\n",
    "    LB_Lac = -v_Ox*f_Lac\n",
    "    #LB_ATP_Ex = m_ATP\n",
    "    return [v_Ox,LB_Eth,LB_Gly,LB_Cit,LB_Lac]\n",
    "\n",
    "# Metabolic block\n",
    "def metabolicBlock(v_Ox,LB_Eth,LB_Gly,LB_Cit,LB_Lac):\n",
    "    if abs(v_Ox)>1e-4:   \n",
    "        model.reactions.get_by_id(\"EX_o2_e\").bounds = (-v_Ox,-v_Ox) # set flux of glucose\n",
    "        #model.reactions.get_by_id(\"EX_etoh_e\").lower_bound   = LB_Eth\n",
    "        #model.reactions.get_by_id(\"EX_glyc_e\").lower_bound   = LB_Gly\n",
    "        #model.reactions.get_by_id(\"EX_cit_e\").lower_bound    = LB_Cit\n",
    "        #model.reactions.get_by_id(\"EX_lac__D_e\").lower_bound = LB_Lac\n",
    "        # The same for Eth, Gly, Cit, Lac\n",
    "\n",
    "        solution = model.optimize()\n",
    "        u = solution.objective_value\n",
    "        v_Glu = model.reactions.get_by_id(\"EX_glc__D_e\").x\n",
    "        v_Eth = model.reactions.get_by_id(\"EX_etoh_e\").x\n",
    "        v_Gly = model.reactions.get_by_id(\"EX_glyc_e\").x\n",
    "        v_Cit = model.reactions.get_by_id(\"EX_cit_e\").x\n",
    "        v_Lac = model.reactions.get_by_id(\"EX_lac__D_e\").x\n",
    "    else:\n",
    "        u, v_Glu,v_Eth, v_Gly, v_Cit, v_Lac = 0,0,0,0,0,0\n",
    "    return [u, v_Glu,v_Eth, v_Gly, v_Cit, v_Lac]\n",
    "    \n",
    "# Dynamic block\n",
    "def f(y,t,params):\n",
    "    V,VX,VGlu,VEth,VGly,VCit,VLac = y # Current values\n",
    "    F,FOx,u, v_Glu,vOx v_Eth, v_Gly, v_Cit, v_Lac = params  # unpack parameters\n",
    "    Glu_F = 200\n",
    "    Ox_F  = \n",
    "    MW_Glu,MW_Eth,MW_Gly,MW_Cit,MW_Lac,MW_Ox = [0.18,.046,.092,.192,.090,0.016] #Molecular weights\n",
    "    derivs=[F,                  # dV/dt\n",
    "            u*VX,                # dVX/dt\n",
    "            F*Glu_F-v_Glu*MW_Glu*(VX), # dVGlu/dt\n",
    "            FOx*Ox_F-v_Ox*MW_Ox*(VX), # dVOx/dt\n",
    "            v_Eth*MW_Eth*(VX), # dVEth/dt\n",
    "            v_Gly*MW_Gly*(VX), # dVGly/dt\n",
    "            v_Cit*MW_Cit*(VX), # dVCit/dt\n",
    "            v_Lac*MW_Lac*(VX)] # dVLac/dt\n",
    "    return derivs\n",
    "def dynamicBlock(y,params, ti,tf):\n",
    "    time=np.linspace(ti,tf,100)\n",
    "    #F,u,v_Glu, v_Eth, v_Gly, v_Cit, v_Lac = params\n",
    "    soln = odeint(f,y,time,args=(params,))\n",
    "    # Get solutions at the final time point (tf):\n",
    "    V=soln[-1,0]\n",
    "    X,Glu,Eth,Gly,Cit,Lac=soln[-1,1:7]/V\n",
    "    return [V,X,Glu,Eth,Gly,Cit,Lac]    \n",
    "\n",
    "\n",
    "# Save results along the fermentation path\n",
    "\n",
    "def savePath(u,V,X,Glu,Eth,Gly,Cit,Lac,v_Glu):\n",
    "    global u_path,V_path,X_path\n",
    "    global Glu_path,Eth_path,Gly_path,Cit_path,Lac_path\n",
    "    global v_Glu_path\n",
    "    u_path += [u]\n",
    "    V_path += [V]\n",
    "    X_path += [X]\n",
    "    Glu_path += [Glu]\n",
    "    Eth_path += [Eth]\n",
    "    Gly_path += [Gly]\n",
    "    Cit_path += [Cit]\n",
    "    Lac_path += [Lac]\n",
    "    v_Glu_path += [v_Glu]"
   ]
  },
  {
   "cell_type": "code",
   "execution_count": 3,
   "id": "2c74348d",
   "metadata": {},
   "outputs": [
    {
     "name": "stderr",
     "output_type": "stream",
     "text": [
      "/usr/local/lib/python3.7/dist-packages/cobra/util/solver.py:554: UserWarning: Solver status is 'infeasible'.\n",
      "  warn(f\"Solver status is '{status}'.\", UserWarning)\n"
     ]
    }
   ],
   "source": [
    "# Initial conditions\n",
    "Glu=20\n",
    "Eth,Gly,Cit,Lac=[0,0,0,0]\n",
    "V,X=[0.5,0.5]\n",
    "F=0.0\n",
    "\n",
    "u_path,V_path,X_path = [],[],[]\n",
    "Glu_path,Eth_path,Gly_path,Cit_path,Lac_path = [],[],[],[],[]\n",
    "v_Glu_path=[]\n",
    "# Running the simulation over time\n",
    "time=np.linspace(0,22,200)\n",
    "for i in range(len(time)):\n",
    "    # KINETIC BLOCK: \n",
    "    # given the current concentrations of glucose (Glu) and ethanol (Eth)\n",
    "    # we compute the fluxes of Glu, and upper and lower limits of Eth, Glycerol(Gly), Citrate(Cit), and Lactate(Lac)\n",
    "    v_Glu,LB_Eth,LB_Gly,LB_Cit,LB_Lac = kineticBlock(Glu,Eth)\n",
    "    # METABOLIC BLOCK\n",
    "    # given v_Glu,LB_Eth,LB_Gly,LB_Cit,LB_Lac\n",
    "    # we compute biomass growth rate (u) and metabolic fluxes of extracellular metabolites\n",
    "    u,v_Eth, v_Gly, v_Cit, v_Lac = metabolicBlock(v_Glu,LB_Eth,LB_Gly,LB_Cit,LB_Lac)\n",
    "    # DYNAMIC BLOCK\n",
    "    # given u, V, fluxes (v_Eth, v_Gly, v_Cit, v_Lac), and concentrations (X,Glu,Eth,Gly,Cit,Lac)\n",
    "    # we update reaction volume V, X and Glu,Eth,Gly,Cit,Lac\n",
    "    if i==len(time)-1: continue\n",
    "    y = [V,X*V,Glu*V,Eth*V,Gly*V,Cit*V,Lac*V]\n",
    "    params = [F,u,v_Glu, v_Eth, v_Gly, v_Cit, v_Lac]\n",
    "    V,X,Glu,Eth,Gly,Cit,Lac = dynamicBlock(y, params, time[i],time[i+1])\n",
    "    # Save results along the fermentaion path\n",
    "    savePath(u,V,X,Glu,Eth,Gly,Cit,Lac,v_Glu)"
   ]
  },
  {
   "cell_type": "code",
   "execution_count": 4,
   "id": "77a28001",
   "metadata": {},
   "outputs": [
    {
     "data": {
      "image/png": "[encoded data removed]",
      "text/plain": [
       "<Figure size 432x288 with 1 Axes>"
      ]
     },
     "metadata": {
      "needs_background": "light"
     },
     "output_type": "display_data"
    }
   ],
   "source": [
    "plt.plot(time[1:600],Glu_path,'r',linewidth=2,label='Glu')\n",
    "plt.plot(time[1:600],X_path,'b',linewidth=2,label='X')\n",
    "plt.plot(time[1:600],Eth_path,'g',linewidth=2,label='Eth')\n",
    "plt.legend()\n",
    "plt.ylabel('Biomass, Glucose & Ethanol [g/L]')\n",
    "plt.xlabel('Time [h]')\n",
    "plt.show()"
   ]
  },
  {
   "cell_type": "code",
   "execution_count": 5,
   "id": "7af9b0a0",
   "metadata": {},
   "outputs": [
    {
     "data": {
      "text/plain": [
       "[<matplotlib.lines.Line2D at 0x7f6da6b14350>]"
      ]
     },
     "execution_count": 5,
     "metadata": {},
     "output_type": "execute_result"
    },
    {
     "data": {
      "image/png": "[encoded data removed]",
      "text/plain": [
       "<Figure size 432x288 with 1 Axes>"
      ]
     },
     "metadata": {
      "needs_background": "light"
     },
     "output_type": "display_data"
    }
   ],
   "source": [
    "plt.plot(u_path)"
   ]
  },
  {
   "cell_type": "code",
   "execution_count": 6,
   "id": "6d3846c7",
   "metadata": {},
   "outputs": [
    {
     "data": {
      "text/plain": [
       "[0.5522396242891339,\n",
       " 0.5454911589441201,\n",
       " 0.5386165859541039,\n",
       " 0.5316280162034372,\n",
       " 0.5245380572165025,\n",
       " 0.5173596803772722,\n",
       " 0.5101060848825639,\n",
       " 0.5027905598121223,\n",
       " 0.49542634694275595,\n",
       " 0.4880265067323024,\n",
       " 0.4806037896024313,\n",
       " 0.4731705142713655,\n",
       " 0.46573845468013675,\n",
       " 0.4583187352231731,\n",
       " 0.45092173668215335,\n",
       " 0.44338578851585086,\n",
       " 0.4358771561007566,\n",
       " 0.4284179965699417,\n",
       " 0.4210152671552482,\n",
       " 0.4135781582212364,\n",
       " 0.40610104226488336,\n",
       " 0.39869558423960594,\n",
       " 0.3912883677365889,\n",
       " 0.38394511318911556,\n",
       " 0.3766762461486484,\n",
       " 0.36947911640071557,\n",
       " 0.3623490425757477,\n",
       " 0.35527902566623076,\n",
       " 0.3482593615615461,\n",
       " 0.3412771139600601,\n",
       " 0.3343153913128307,\n",
       " 0.32735234655958295,\n",
       " 0.3203423307903014,\n",
       " 0.3132317004651413,\n",
       " 0.30600636569633133,\n",
       " 0.29860295635516587,\n",
       " 0.29093658756246943,\n",
       " 0.2828916357792449,\n",
       " 0.2743076082769614,\n",
       " 0.2649571424720898,\n",
       " 0.25451140064892386,\n",
       " 0.24248576399517105,\n",
       " 0.2281578646910199,\n",
       " 0.21046063229011405,\n",
       " 0.18791774632235864,\n",
       " 0.15894941601545534,\n",
       " 0.12356914137319225,\n",
       " 0.08728848895389205,\n",
       " 0.04492552445210874,\n",
       " 0.005060373224329851,\n",
       " 0.018373196812144468,\n",
       " 0.025652150073358526,\n",
       " 0.026828535531169092,\n",
       " 0,\n",
       " 0,\n",
       " 0,\n",
       " 0,\n",
       " 0,\n",
       " 0,\n",
       " 0,\n",
       " 0,\n",
       " 0,\n",
       " 0,\n",
       " 0,\n",
       " 0,\n",
       " 0,\n",
       " 0,\n",
       " 0,\n",
       " 0,\n",
       " 0,\n",
       " 0,\n",
       " 0,\n",
       " 0,\n",
       " 0,\n",
       " 0,\n",
       " 0,\n",
       " 0,\n",
       " 0,\n",
       " 0,\n",
       " 0,\n",
       " 0,\n",
       " 0,\n",
       " 0,\n",
       " 0,\n",
       " 0,\n",
       " 0,\n",
       " 0,\n",
       " 0,\n",
       " 0,\n",
       " 0,\n",
       " 0,\n",
       " 0,\n",
       " 0,\n",
       " 0,\n",
       " 0,\n",
       " 0,\n",
       " 0,\n",
       " 0,\n",
       " 0,\n",
       " 0,\n",
       " 0,\n",
       " 0,\n",
       " 0,\n",
       " 0,\n",
       " 0,\n",
       " 0,\n",
       " 0,\n",
       " 0,\n",
       " 0,\n",
       " 0,\n",
       " 0,\n",
       " 0,\n",
       " 0,\n",
       " 0,\n",
       " 0,\n",
       " 0,\n",
       " 0,\n",
       " 0,\n",
       " 0,\n",
       " 0,\n",
       " 0,\n",
       " 0,\n",
       " 0,\n",
       " 0,\n",
       " 0,\n",
       " 0,\n",
       " 0,\n",
       " 0,\n",
       " 0,\n",
       " 0,\n",
       " 0,\n",
       " 0,\n",
       " 0,\n",
       " 0,\n",
       " 0,\n",
       " 0,\n",
       " 0,\n",
       " 0,\n",
       " 0,\n",
       " 0,\n",
       " 0,\n",
       " 0,\n",
       " 0,\n",
       " 0,\n",
       " 0,\n",
       " 0,\n",
       " 0,\n",
       " 0,\n",
       " 0,\n",
       " 0,\n",
       " 0,\n",
       " 0,\n",
       " 0,\n",
       " 0,\n",
       " 0,\n",
       " 0,\n",
       " 0,\n",
       " 0,\n",
       " 0,\n",
       " 0,\n",
       " 0,\n",
       " 0,\n",
       " 0,\n",
       " 0,\n",
       " 0,\n",
       " 0,\n",
       " 0,\n",
       " 0,\n",
       " 0,\n",
       " 0,\n",
       " 0,\n",
       " 0,\n",
       " 0,\n",
       " 0,\n",
       " 0,\n",
       " 0,\n",
       " 0,\n",
       " 0,\n",
       " 0,\n",
       " 0,\n",
       " 0,\n",
       " 0,\n",
       " 0,\n",
       " 0,\n",
       " 0,\n",
       " 0,\n",
       " 0,\n",
       " 0,\n",
       " 0,\n",
       " 0,\n",
       " 0,\n",
       " 0,\n",
       " 0,\n",
       " 0,\n",
       " 0,\n",
       " 0,\n",
       " 0,\n",
       " 0,\n",
       " 0]"
      ]
     },
     "execution_count": 6,
     "metadata": {},
     "output_type": "execute_result"
    }
   ],
   "source": [
    "u_path"
   ]
  },
  {
   "cell_type": "code",
   "execution_count": 7,
   "id": "a8125283",
   "metadata": {},
   "outputs": [
    {
     "data": {
      "text/plain": [
       "[<matplotlib.lines.Line2D at 0x7f6da6a77610>]"
      ]
     },
     "execution_count": 7,
     "metadata": {},
     "output_type": "execute_result"
    },
    {
     "data": {
      "image/png": "[encoded data removed]",
      "text/plain": [
       "<Figure size 432x288 with 1 Axes>"
      ]
     },
     "metadata": {
      "needs_background": "light"
     },
     "output_type": "display_data"
    }
   ],
   "source": [
    "plt.plot(v_Glu_path)"
   ]
  },
  {
   "cell_type": "code",
   "execution_count": null,
   "id": "28b62753",
   "metadata": {},
   "outputs": [],
   "source": []
  },
  {
   "cell_type": "code",
   "execution_count": 9,
   "id": "52a70a2c",
   "metadata": {},
   "outputs": [
    {
     "data": {
      "text/plain": [
       "{'EX_fe2_e': 999999.0,\n",
       " 'EX_glc__D_e': 0.00047778629008562626,\n",
       " 'EX_h2o_e': 999999.0,\n",
       " 'EX_h_e': 999999.0,\n",
       " 'EX_k_e': 999999.0,\n",
       " 'EX_na1_e': 999999.0,\n",
       " 'EX_so4_e': 999999.0,\n",
       " 'EX_nh4_e': 999999.0,\n",
       " 'EX_o2_e': 2.0,\n",
       " 'EX_pi_e': 999999.0}"
      ]
     },
     "execution_count": 9,
     "metadata": {},
     "output_type": "execute_result"
    }
   ],
   "source": [
    "model.medium"
   ]
  },
  {
   "cell_type": "code",
   "execution_count": 10,
   "id": "db438343",
   "metadata": {},
   "outputs": [
    {
     "name": "stderr",
     "output_type": "stream",
     "text": [
      "/usr/local/lib/python3.7/dist-packages/cobra/util/solver.py:554: UserWarning: Solver status is 'infeasible'.\n",
      "  warn(f\"Solver status is '{status}'.\", UserWarning)\n"
     ]
    }
   ],
   "source": [
    "v_Glu =  -1e-200\n",
    "model.reactions.get_by_id(\"EX_glc__D_e\").bounds = (v_Glu,v_Glu)\n",
    "sln=model.optimize()"
   ]
  },
  {
   "cell_type": "code",
   "execution_count": 11,
   "id": "53fd1eab",
   "metadata": {},
   "outputs": [
    {
     "data": {
      "text/plain": [
       "0.027048231189739026"
      ]
     },
     "execution_count": 11,
     "metadata": {},
     "output_type": "execute_result"
    }
   ],
   "source": [
    "sln.objective_value"
   ]
  },
  {
   "cell_type": "code",
   "execution_count": 12,
   "id": "7ebdd946",
   "metadata": {},
   "outputs": [
    {
     "data": {
      "text/plain": [
       "-1e-200"
      ]
     },
     "execution_count": 12,
     "metadata": {},
     "output_type": "execute_result"
    }
   ],
   "source": [
    "v_Glu"
   ]
  },
  {
   "cell_type": "markdown",
   "id": "9875f8b1",
   "metadata": {},
   "source": [
    "# Tarea:\n",
    "    \n",
    "Utilizar el oxigeno en lugar de la glucosa como sustrato limitante. Podemos experimentar con una cinética de tipo Michaelis-Menten.\n",
    "\n",
    "$v_{O_2} = v_M^{O_2} \\frac{O_2}{K_{O_2}+O_2}$"
   ]
  },
  {
   "cell_type": "markdown",
   "id": "2c54af8c",
   "metadata": {},
   "source": [
    "# Medición del error entre datos predichos y medidos"
   ]
  },
  {
   "cell_type": "code",
   "execution_count": 9,
   "id": "5b2a6e31",
   "metadata": {
    "scrolled": true
   },
   "outputs": [
    {
     "data": {
      "image/png": "[encoded data removed]",
      "text/plain": [
       "<Figure size 432x288 with 1 Axes>"
      ]
     },
     "metadata": {
      "needs_background": "light"
     },
     "output_type": "display_data"
    }
   ],
   "source": [
    "# Simular datos de O2\n",
    "\n",
    "import numpy as np\n",
    "from scipy.integrate import odeint\n",
    "import matplotlib.pyplot as plt\n",
    "\n",
    "# function that returns dy/dt\n",
    "def model(y,t,k):\n",
    "    dydt = -k * y\n",
    "    return dydt\n",
    "\n",
    "# initial condition\n",
    "y0 = 2.5\n",
    "\n",
    "# time points\n",
    "t = np.linspace(0,40)\n",
    "\n",
    "# solve ODE\n",
    "\n",
    "k=0.3\n",
    "medidos = odeint(model,y0,t,args=(k,))\n",
    "\n",
    "# plot results\n",
    "plt.plot(t,medidos)\n",
    "\n",
    "k=0.03\n",
    "predichos = odeint(model,y0,t,args=(k,))\n",
    "plt.plot(t,predichos)\n",
    "\n",
    "plt.xlabel('time')\n",
    "plt.ylabel('o2')\n",
    "plt.show()"
   ]
  },
  {
   "cell_type": "code",
   "execution_count": 28,
   "id": "5a19020f",
   "metadata": {},
   "outputs": [],
   "source": [
    "# Una manera de medir la diferencia o error entre dos curvas es el Mean Square Error (MSE)\n",
    "\n",
    "def mse(predichos,medidos):\n",
    "    error = predichos-medidos # diferencia entre predicho y medido\n",
    "    error_square = np.square(error) # cada diferencia al cuadrado\n",
    "    mse = np.mean(error_square) # promedio de las diferencias al cuadrado (MSE)\n",
    "    return(mse)    "
   ]
  },
  {
   "cell_type": "code",
   "execution_count": 10,
   "id": "7dd0aa41",
   "metadata": {},
   "outputs": [],
   "source": [
    "def mse(guess):\n",
    "    k=0.3\n",
    "    medidos = odeint(model,y0,t,args=(k,))\n",
    "    predichos = odeint(model,y0,t,args=(guess,))\n",
    "    error = predichos-medidos # diferencia entre predicho y medido\n",
    "    error_square = np.square(error) # cada diferencia al cuadrado\n",
    "    mse = np.mean(error_square) # promedio de las diferencias al cuadrado (MSE)\n",
    "    return(mse)     \n",
    "        "
   ]
  },
  {
   "cell_type": "code",
   "execution_count": 11,
   "id": "780bc402",
   "metadata": {},
   "outputs": [],
   "source": [
    "from scipy.optimize import basinhopping"
   ]
  },
  {
   "cell_type": "code",
   "execution_count": null,
   "id": "212b3b2d",
   "metadata": {},
   "outputs": [],
   "source": [
    "guess=100\n",
    "minimizer_kwargs = {\"method\": \"BFGS\"}\n",
    "sol = basinhopping(mse, guess, minimizer_kwargs=minimizer_kwargs,niter=1000,disp=False,stepsize=5)"
   ]
  },
  {
   "cell_type": "code",
   "execution_count": 23,
   "id": "396bc64f",
   "metadata": {},
   "outputs": [
    {
     "data": {
      "text/plain": [
       "                        fun: 0.1977900964249391\n",
       " lowest_optimization_result:       fun: 0.1977900964249391\n",
       " hess_inv: array([[1]])\n",
       "      jac: array([0.])\n",
       "  message: 'Optimization terminated successfully.'\n",
       "     nfev: 2\n",
       "      nit: 0\n",
       "     njev: 1\n",
       "   status: 0\n",
       "  success: True\n",
       "        x: array([102.85394397])\n",
       "                    message: ['requested number of basinhopping iterations completed successfully']\n",
       "      minimization_failures: 0\n",
       "                       nfev: 2002\n",
       "                        nit: 1000\n",
       "                       njev: 1001\n",
       "                          x: array([102.85394397])"
      ]
     },
     "execution_count": 23,
     "metadata": {},
     "output_type": "execute_result"
    }
   ],
   "source": [
    "sol"
   ]
  },
  {
   "cell_type": "markdown",
   "id": "4218f0e4",
   "metadata": {},
   "source": [
    "# Load data from xls"
   ]
  },
  {
   "cell_type": "code",
   "execution_count": 3,
   "id": "d21c2f35",
   "metadata": {},
   "outputs": [],
   "source": [
    "import pandas as pd\n",
    "# En el terminal ejecutar \n",
    "# pip3 install openpyxl\n",
    "data_s3=pd.read_excel(open('Datos_seccion_3.xlsx', 'rb'), sheet_name='200701010052')  "
   ]
  },
  {
   "cell_type": "code",
   "execution_count": 31,
   "id": "5985f947",
   "metadata": {},
   "outputs": [
    {
     "data": {
      "text/plain": [
       "[<matplotlib.lines.Line2D at 0x7f4fd454cd50>]"
      ]
     },
     "execution_count": 31,
     "metadata": {},
     "output_type": "execute_result"
    },
    {
     "data": {
      "image/png": "[encoded data removed]",
      "text/plain": [
       "<Figure size 432x288 with 1 Axes>"
      ]
     },
     "metadata": {
      "needs_background": "light"
     },
     "output_type": "display_data"
    }
   ],
   "source": [
    "# Corrige los primeros 10 puntos al valor del punto 10\n",
    "#data_s3[\"DO\"][0:9]=[ data_s3[\"DO\"][10] ]*10\n",
    "\n",
    "time_exp=data_s3[\"Time (h)\"][0:1500]\n",
    "do_exp=data_s3[\"DO\"][0:1500]\n",
    "plt.plot(time, do)"
   ]
  },
  {
   "cell_type": "markdown",
   "id": "b33b7862",
   "metadata": {},
   "source": [
    "# DFBA basado en el consumo observado de O2\n",
    "\n",
    "\n",
    "\n",
    "<img src=\"https://raw.githubusercontent.com/mrivas/ModelamientoDeProcesosBiotecnologicos/master/2022/IMG_20220630_170141.jpg\" width=\"55%\" align=\"left\" />"
   ]
  },
  {
   "cell_type": "code",
   "execution_count": 20,
   "id": "01063c52",
   "metadata": {},
   "outputs": [],
   "source": [
    "# Data based on:\n",
    "# https://doi.org/10.1016/j.ymben.2014.07.004\n",
    "# Libraries for the Dynamic block\n",
    "import numpy as np\n",
    "from scipy.integrate import odeint\n",
    "# Libraries for the Metabolic block\n",
    "import cobra\n",
    "model=cobra.io.read_sbml_model(\"iMM904.xml\")\n",
    "# Plotting libraries\n",
    "import matplotlib.pyplot as plt"
   ]
  },
  {
   "cell_type": "code",
   "execution_count": 48,
   "id": "eb608914",
   "metadata": {},
   "outputs": [],
   "source": [
    "# Kinetic block\n",
    "def kineticBlock(Ox,guess):\n",
    "    # Parameters   \n",
    "    vOxMax, K_Ox = guess \n",
    "    v_Ox=vOxMax*Ox/(K_Ox+Ox)\n",
    "\n",
    "    return v_Ox\n",
    "\n",
    "# Metabolic block\n",
    "def metabolicBlock(v_Ox,Glu):\n",
    "    if abs(v_Ox)>1e-4:  \n",
    "        model.reactions.get_by_id(\"EX_o2_e\").bounds = (-v_Ox,-v_Ox) # set flux of oxygen\n",
    "\n",
    "        solution = model.optimize()\n",
    "        u = solution.objective_value\n",
    "        v_Glu = model.reactions.get_by_id(\"EX_glc__D_e\").x   \n",
    "    else:\n",
    "        u, v_Glu,v_Ox = 0,0,0\n",
    "    \n",
    "    if Glu < 1e-4: v_Glu=0\n",
    "    return [u, v_Glu,v_Ox]\n",
    "    \n",
    "# Dynamic block\n",
    "def f(y,t,params):\n",
    "    V,VX,VGlu,VOx = y # Current values\n",
    "    F,u,v_Glu, v_Ox = params  # unpack parameters\n",
    "\n",
    "    MW_Glu,MW_Ox = [0.18,.032] #Molecular weights \n",
    "    derivs=[F,                  # dV/dt\n",
    "            u*VX,                # dVX/dt\n",
    "            v_Glu*MW_Glu*(VX), # dVGlu/dt\n",
    "            -v_Ox*MW_Ox*(VX)] # dVOx/dt\n",
    "    return derivs\n",
    "\n",
    "def dynamicBlock(y,params, ti,tf):\n",
    "    time=np.linspace(ti,tf,100)\n",
    "    #F,u,v_Glu, v_Eth, v_Gly, v_Cit, v_Lac = params\n",
    "    soln = odeint(f,y,time,args=(params,))\n",
    "    # Get solutions at the final time point (tf):\n",
    "    V=soln[-1,0]\n",
    "    X,Glu,Ox=soln[-1,1:4]/V\n",
    "    return [V,X,Glu,Ox]    \n",
    "\n",
    "# Save results along the fermentation path\n",
    "\n",
    "def savePath(u,V,X,Glu,Ox,v_Glu,v_Ox):\n",
    "    global u_path,V_path,X_path\n",
    "    global Glu_path,Ox_path\n",
    "    global v_Ox_path, v_Glu_path\n",
    "    u_path += [u]\n",
    "    V_path += [V]\n",
    "    X_path += [X]\n",
    "    Glu_path += [Glu]\n",
    "    Ox_path += [Ox]\n",
    "    v_Glu_path += [v_Glu]    \n",
    "    v_Ox_path += [v_Ox]"
   ]
  },
  {
   "cell_type": "code",
   "execution_count": 57,
   "id": "2120426f",
   "metadata": {},
   "outputs": [],
   "source": [
    "guess = 22.5/4,0.88\n",
    "\n",
    "# Initial conditions\n",
    "Glu=20\n",
    "Ox=7.6*.94 #g/L\n",
    "V,X=[0.5,0.5]\n",
    "F=0.0\n",
    "\n",
    "u_path,V_path,X_path = [],[],[]\n",
    "Glu_path,Ox_path = [],[]\n",
    "v_Ox_path, v_Glu_path = [],[]\n",
    "# Running the simulation over time\n",
    "time=np.linspace(0,12,200)\n",
    "for i in range(len(time)):\n",
    "    # KINETIC BLOCK: \n",
    "    # given the current concentrations of glucose (Glu) and ethanol (Eth)\n",
    "    # we compute the fluxes of Glu, and upper and lower limits of Eth, Glycerol(Gly), Citrate(Cit), and Lactate(Lac)\n",
    "    v_Ox = kineticBlock(Ox,guess)\n",
    "    # METABOLIC BLOCK\n",
    "    # given v_Glu,LB_Eth,LB_Gly,LB_Cit,LB_Lac\n",
    "    # we compute biomass growth rate (u) and metabolic fluxes of extracellular metabolites\n",
    "    u, v_Glu,v_Ox = metabolicBlock(v_Ox,Glu)\n",
    "    # DYNAMIC BLOCK\n",
    "    # given u, V, fluxes (v_Eth, v_Gly, v_Cit, v_Lac), and concentrations (X,Glu,Eth,Gly,Cit,Lac)\n",
    "    # we update reaction volume V, X and Glu,Eth,Gly,Cit,Lac\n",
    "    if i==len(time)-1: continue\n",
    "    y = [V,X*V,Glu*V,Ox*V]\n",
    "    params = [F,u,v_Glu, v_Ox]\n",
    "    V,X,Glu,Ox = dynamicBlock(y, params, time[i],time[i+1])\n",
    "    # Save results along the fermentaion path\n",
    "    savePath(u,V,X,Glu,Ox,v_Glu,v_Ox)"
   ]
  },
  {
   "cell_type": "code",
   "execution_count": 58,
   "id": "b946ad10",
   "metadata": {},
   "outputs": [
    {
     "data": {
      "image/png": "[encoded data removed]",
      "text/plain": [
       "<Figure size 432x288 with 1 Axes>"
      ]
     },
     "metadata": {
      "needs_background": "light"
     },
     "output_type": "display_data"
    }
   ],
   "source": [
    "plt.plot(time[1:200],Glu_path,'r',linewidth=2,label='Glu')\n",
    "plt.plot(time[1:200],X_path,'b',linewidth=2,label='X')\n",
    "plt.plot(time[1:200],Ox_path,'g',linewidth=2,label='Ox')\n",
    "#plt.plot(time[1:200],v_Glu_path,'y',linewidth=2,label='v_Glu')\n",
    "plt.legend()\n",
    "plt.ylabel('Biomass, Glucose & Oxygen [g/L]')\n",
    "plt.xlabel('Time [h]')\n",
    "plt.show()"
   ]
  },
  {
   "cell_type": "code",
   "execution_count": null,
   "id": "69f9b0af",
   "metadata": {},
   "outputs": [],
   "source": []
  }
 ],
 "metadata": {
  "kernelspec": {
   "display_name": "Python 3 (ipykernel)",
   "language": "python",
   "name": "python3"
  },
  "language_info": {
   "codemirror_mode": {
    "name": "ipython",
    "version": 3
   },
   "file_extension": ".py",
   "mimetype": "text/x-python",
   "name": "python",
   "nbconvert_exporter": "python",
   "pygments_lexer": "ipython3",
   "version": "3.7.5"
  }
 },
 "nbformat": 4,
 "nbformat_minor": 5
}
