{
 "cells": [
  {
   "cell_type": "code",
   "execution_count": 40,
   "id": "608d32ee",
   "metadata": {},
   "outputs": [],
   "source": [
    "#Prueba que las siguientes librerias estén disponibles\n",
    "\n",
    "import cobra.test\n",
    "import cplex # usaremos el cluster UTEM\n",
    "import pandas as pd\n",
    "import numpy as np\n",
    "import escher\n",
    "from escher import Builder"
   ]
  },
  {
   "cell_type": "code",
   "execution_count": 41,
   "id": "d6a9ef5f",
   "metadata": {},
   "outputs": [],
   "source": [
    "# Load fpkm data and model\n",
    "#transcriptomic for e.coli in sheets: Ishii, Holm, Rintalta \n",
    "#wget -O S2.xls 'https://journals.plos.org/plosone/article/file?type=supplementary&id=info:doi/10.1371/journal.pone.0157101.s002'\n",
    "\n",
    "data=pd.read_excel(\"S2.xls\",sheet_name=\"Transcriptomic data - Ishii\", index_col=0, header=0) \n",
    "model2 = cobra.test.create_test_model(\"ecoli\")\n",
    "#model = cobra.test.create_test_model(\"ecoli\")"
   ]
  },
  {
   "cell_type": "code",
   "execution_count": 42,
   "id": "d9d4176f",
   "metadata": {},
   "outputs": [
    {
     "data": {
      "text/html": [
       "\n",
       "        <table>\n",
       "            <tr>\n",
       "                <td><strong>Name</strong></td>\n",
       "                <td>iJO1366</td>\n",
       "            </tr><tr>\n",
       "                <td><strong>Memory address</strong></td>\n",
       "                <td>0x07f891c3a6850</td>\n",
       "            </tr><tr>\n",
       "                <td><strong>Number of metabolites</strong></td>\n",
       "                <td>1805</td>\n",
       "            </tr><tr>\n",
       "                <td><strong>Number of reactions</strong></td>\n",
       "                <td>2583</td>\n",
       "            </tr><tr>\n",
       "                <td><strong>Number of groups</strong></td>\n",
       "                <td>37</td>\n",
       "            </tr><tr>\n",
       "                <td><strong>Objective expression</strong></td>\n",
       "                <td>1.0*BIOMASS_Ec_iJO1366_core_53p95M - 1.0*BIOMASS_Ec_iJO1366_core_53p95M_reverse_5c8b1</td>\n",
       "            </tr><tr>\n",
       "                <td><strong>Compartments</strong></td>\n",
       "                <td>cytosol, extracellular space, periplasm</td>\n",
       "            </tr>\n",
       "          </table>"
      ],
      "text/plain": [
       "<Model iJO1366 at 0x7f891c3a6850>"
      ]
     },
     "execution_count": 42,
     "metadata": {},
     "output_type": "execute_result"
    }
   ],
   "source": [
    "model2"
   ]
  },
  {
   "cell_type": "code",
   "execution_count": 43,
   "id": "eeb3c7f8",
   "metadata": {},
   "outputs": [],
   "source": [
    "# Define una función para cargar los fpkm de acuerdo a las gene_reaction_rules\n",
    "\n",
    "def getG(grl,fpkm):\n",
    "    grl=grl.replace(\"(\",\"\")\n",
    "    grl=grl.replace(\")\",\"\")\n",
    "    g = 0\n",
    "    for subrule in grl.split(\"or\"):\n",
    "        g_subrule = []\n",
    "        for gene in subrule.split(\"and\"):\n",
    "            gene = gene.replace(\" \",\"\")\n",
    "            if gene in fpkm:\n",
    "                g_subrule.append( float(fpkm[gene]) )\n",
    "        if len(g_subrule)>=1: \n",
    "            g += min(g_subrule)\n",
    "    return(g)"
   ]
  },
  {
   "cell_type": "code",
   "execution_count": 44,
   "id": "04b52485",
   "metadata": {},
   "outputs": [],
   "source": [
    "# Create a dictionary with the fpkm of each gene\n",
    "\n",
    "fpkm={}\n",
    "\n",
    "for gene in model2.genes:\n",
    "    if gene.id  in data.index:\n",
    "        fpkm[gene] = data[\"RF\"].loc[gene.id]\n",
    "    #else:\n",
    "    #    print(gene.id,\" not found\")"
   ]
  },
  {
   "cell_type": "code",
   "execution_count": 222,
   "id": "eeeeedc1",
   "metadata": {},
   "outputs": [],
   "source": [
    "#fpkm"
   ]
  },
  {
   "cell_type": "code",
   "execution_count": 218,
   "id": "a790c48f",
   "metadata": {},
   "outputs": [],
   "source": [
    "# Create a dictionary with the fpkm for each reaction\n",
    "g = {}\n",
    "mean_g = np.mean(list(fpkm.values()) ) # useful when not a grl available\n",
    "\n",
    "for reaction in model2.reactions:\n",
    "    if reaction.gene_reaction_rule == \"\":\n",
    "        \n",
    "        g[reaction.id] = mean_g[0]    \n",
    "    else:\n",
    "        g[reaction.id] = getG(reaction.gene_reaction_rule,fpkm)\n",
    "        \n",
    "#g.values()\n",
    "\n",
    "     "
   ]
  },
  {
   "cell_type": "code",
   "execution_count": 216,
   "id": "d9d7e1a7",
   "metadata": {},
   "outputs": [
    {
     "data": {
      "text/html": [
       "\n",
       "        <table>\n",
       "            <tr>\n",
       "                <td><strong>Name</strong></td>\n",
       "                <td>iJO1366</td>\n",
       "            </tr><tr>\n",
       "                <td><strong>Memory address</strong></td>\n",
       "                <td>0x07f890b213d10</td>\n",
       "            </tr><tr>\n",
       "                <td><strong>Number of metabolites</strong></td>\n",
       "                <td>1805</td>\n",
       "            </tr><tr>\n",
       "                <td><strong>Number of reactions</strong></td>\n",
       "                <td>2583</td>\n",
       "            </tr><tr>\n",
       "                <td><strong>Number of groups</strong></td>\n",
       "                <td>37</td>\n",
       "            </tr><tr>\n",
       "                <td><strong>Objective expression</strong></td>\n",
       "                <td>3.60030103098405*12DGR120tipp + 3.60030103098405*12DGR120tipp_reverse_757ef +...</td>\n",
       "            </tr><tr>\n",
       "                <td><strong>Compartments</strong></td>\n",
       "                <td>cytosol, extracellular space, periplasm</td>\n",
       "            </tr>\n",
       "          </table>"
      ],
      "text/plain": [
       "<Model iJO1366 at 0x7f890b213d10>"
      ]
     },
     "execution_count": 216,
     "metadata": {},
     "output_type": "execute_result"
    }
   ],
   "source": [
    "reaction.model"
   ]
  },
  {
   "cell_type": "code",
   "execution_count": 199,
   "id": "75114fb7",
   "metadata": {},
   "outputs": [],
   "source": [
    "#1 Define objecive function\n",
    "model2 = cobra.test.create_test_model(\"ecoli\")\n",
    "\n",
    "for i, reaction in enumerate(model2.reactions):\n",
    "    if i == 0:\n",
    "        dotProduct_expression  = model2.reactions.get_by_id(reaction.id).forward_variable*g[reaction.id]\n",
    "        dotProduct_expression += model2.reactions.get_by_id(reaction.id).reverse_variable*g[reaction.id]\n",
    "    else:\n",
    "        dotProduct_expression += model2.reactions.get_by_id(reaction.id).forward_variable*g[reaction.id]\n",
    "        dotProduct_expression += model2.reactions.get_by_id(reaction.id).reverse_variable*g[reaction.id]"
   ]
  },
  {
   "cell_type": "code",
   "execution_count": 205,
   "id": "9f3a5afc",
   "metadata": {},
   "outputs": [],
   "source": [
    "dotProduct_objective = model2.problem.Objective(dotProduct_expression,direction=\"min\")\n",
    "model2.objective = dotProduct_objective "
   ]
  },
  {
   "cell_type": "code",
   "execution_count": 206,
   "id": "244b0806",
   "metadata": {},
   "outputs": [
    {
     "data": {
      "text/plain": [
       "(-1450, -1450)"
      ]
     },
     "execution_count": 206,
     "metadata": {},
     "output_type": "execute_result"
    }
   ],
   "source": [
    "#Fijación de glucosa\n",
    "model2.reactions.get_by_id(\"EX_glc__D_e\").bounds=(-1450,-1450)\n",
    "model2.reactions.get_by_id(\"EX_glc__D_e\").bounds"
   ]
  },
  {
   "cell_type": "code",
   "execution_count": 207,
   "id": "3c712927",
   "metadata": {},
   "outputs": [],
   "source": [
    "#2.3 Compute new distribution of fluxes\n",
    "solution_SPOT2= model2.optimize()"
   ]
  },
  {
   "cell_type": "code",
   "execution_count": 208,
   "id": "3df5d2a1",
   "metadata": {},
   "outputs": [
    {
     "data": {
      "text/html": [
       "<strong><em>Optimal</em> solution with objective value 17184.712</strong><br><div>\n",
       "<style scoped>\n",
       "    .dataframe tbody tr th:only-of-type {\n",
       "        vertical-align: middle;\n",
       "    }\n",
       "\n",
       "    .dataframe tbody tr th {\n",
       "        vertical-align: top;\n",
       "    }\n",
       "\n",
       "    .dataframe thead th {\n",
       "        text-align: right;\n",
       "    }\n",
       "</style>\n",
       "<table border=\"1\" class=\"dataframe\">\n",
       "  <thead>\n",
       "    <tr style=\"text-align: right;\">\n",
       "      <th></th>\n",
       "      <th>fluxes</th>\n",
       "      <th>reduced_costs</th>\n",
       "    </tr>\n",
       "  </thead>\n",
       "  <tbody>\n",
       "    <tr>\n",
       "      <th>DM_4crsol_c</th>\n",
       "      <td>-0.000000</td>\n",
       "      <td>-7.200602</td>\n",
       "    </tr>\n",
       "    <tr>\n",
       "      <th>DM_5drib_c</th>\n",
       "      <td>-0.000000</td>\n",
       "      <td>-7.200602</td>\n",
       "    </tr>\n",
       "    <tr>\n",
       "      <th>DM_aacald_c</th>\n",
       "      <td>-0.000000</td>\n",
       "      <td>-7.200602</td>\n",
       "    </tr>\n",
       "    <tr>\n",
       "      <th>DM_amob_c</th>\n",
       "      <td>-0.000000</td>\n",
       "      <td>-7.200602</td>\n",
       "    </tr>\n",
       "    <tr>\n",
       "      <th>DM_mththf_c</th>\n",
       "      <td>195.320925</td>\n",
       "      <td>-7.200602</td>\n",
       "    </tr>\n",
       "    <tr>\n",
       "      <th>...</th>\n",
       "      <td>...</td>\n",
       "      <td>...</td>\n",
       "    </tr>\n",
       "    <tr>\n",
       "      <th>ZN2abcpp</th>\n",
       "      <td>0.000000</td>\n",
       "      <td>2.740487</td>\n",
       "    </tr>\n",
       "    <tr>\n",
       "      <th>ZN2t3pp</th>\n",
       "      <td>0.000000</td>\n",
       "      <td>0.685122</td>\n",
       "    </tr>\n",
       "    <tr>\n",
       "      <th>ZN2tpp</th>\n",
       "      <td>0.000000</td>\n",
       "      <td>0.000000</td>\n",
       "    </tr>\n",
       "    <tr>\n",
       "      <th>ZNabcpp</th>\n",
       "      <td>0.000000</td>\n",
       "      <td>2.740487</td>\n",
       "    </tr>\n",
       "    <tr>\n",
       "      <th>Zn2tex</th>\n",
       "      <td>0.000000</td>\n",
       "      <td>0.000000</td>\n",
       "    </tr>\n",
       "  </tbody>\n",
       "</table>\n",
       "<p>2583 rows × 2 columns</p>\n",
       "</div>"
      ],
      "text/plain": [
       "<Solution 17184.712 at 0x7f890b1fd910>"
      ]
     },
     "execution_count": 208,
     "metadata": {},
     "output_type": "execute_result"
    }
   ],
   "source": [
    "solution_SPOT2"
   ]
  },
  {
   "cell_type": "code",
   "execution_count": 209,
   "id": "362e3a88",
   "metadata": {},
   "outputs": [
    {
     "data": {
      "text/plain": [
       "DM_4crsol_c     -0.000000\n",
       "DM_5drib_c      -0.000000\n",
       "DM_aacald_c     -0.000000\n",
       "DM_amob_c       -0.000000\n",
       "DM_mththf_c    195.320925\n",
       "                  ...    \n",
       "ZN2abcpp         0.000000\n",
       "ZN2t3pp          0.000000\n",
       "ZN2tpp           0.000000\n",
       "ZNabcpp          0.000000\n",
       "Zn2tex           0.000000\n",
       "Name: fluxes, Length: 2583, dtype: float64"
      ]
     },
     "execution_count": 209,
     "metadata": {},
     "output_type": "execute_result"
    }
   ],
   "source": [
    "#solution_SPOT2.fluxes"
   ]
  },
  {
   "cell_type": "code",
   "execution_count": 210,
   "id": "eb8dbb0d",
   "metadata": {},
   "outputs": [
    {
     "name": "stdout",
     "output_type": "stream",
     "text": [
      "Downloading Map from https://escher.github.io/1-0-0/6/maps/Escherichia%20coli/e_coli_core.Core%20metabolism.json\n",
      "Downloading Model from https://escher.github.io/1-0-0/6/models/Escherichia%20coli/e_coli_core.json\n"
     ]
    },
    {
     "data": {
      "application/vnd.jupyter.widget-view+json": {
       "model_id": "9aed3adda2854f7f8bd1f1edc4a143f5",
       "version_major": 2,
       "version_minor": 0
      },
      "text/plain": [
       "Builder(reaction_data={'DM_4crsol_c': -0.0, 'DM_5drib_c': -0.0, 'DM_aacald_c': -0.0, 'DM_amob_c': -0.0, 'DM_mt…"
      ]
     },
     "metadata": {},
     "output_type": "display_data"
    }
   ],
   "source": [
    "builder=Builder(\n",
    "    map_name=\"e_coli_core.Core metabolism\",\n",
    "    model_name=\"e_coli_core\",\n",
    ")\n",
    "builder.reaction_data=solution_SPOT2.fluxes\n",
    "builder"
   ]
  },
  {
   "cell_type": "code",
   "execution_count": 211,
   "id": "7a5813eb",
   "metadata": {},
   "outputs": [
    {
     "data": {
      "image/png": "[encoded data removed]",
      "text/plain": [
       "<Figure size 432x288 with 1 Axes>"
      ]
     },
     "metadata": {
      "needs_background": "light"
     },
     "output_type": "display_data"
    }
   ],
   "source": [
    "import scipy as sc\n",
    "import matplotlib\n",
    "import matplotlib.pyplot as plt\n",
    "\n",
    "#Definiendo ejes\n",
    "\n",
    "x=g.values()\n",
    "y=solution_SPOT2.fluxes\n",
    "#Etiquetas de titulo y ejes\n",
    "plt.plot(x,y[0:], 'o')\n",
    "\n",
    "plt.title('Correlación g vs v Ishii et al.',fontsize = 10,fontweight = \"bold\")\n",
    "plt.xlabel('g')\n",
    "plt.ylabel('v')\n",
    "\n",
    "\n",
    "plt.grid()\n",
    "plt.show()"
   ]
  },
  {
   "cell_type": "code",
   "execution_count": 219,
   "id": "839cdb3a",
   "metadata": {},
   "outputs": [],
   "source": [
    "flujos=['PGI','PFK','FBA','TPI',\"GAPD\",\"PYK\",\"PDH\",\"GND\",\"RPE\",\"RPI\",\"TKT1\",\"TALA\",\"TKT2\",\"CS\",\"ACONTa\",\"ICDHyr\",\"SUCDi\",\"FUM\",\"PPC\",\"ICL\"]\n",
    "#valores EXPERIMENTALES isshi\n",
    "flux_ex={'PGI':224.7179186,'PFK':249.5301258,'FBA':249.5301258,'TPI':249.5301258,'GAPD':504.7619031,\n",
    "         'PYK':139.9624166,'PDH':372.2827564,'GND':64.39079794,'RPE':26.84455913,'RPI':37.54514687,\n",
    "     'TKT1':17.83978343,'TALA':17.83978343,'TKT2':9.003823619,'CS':257.7498473,'ACONTa':257.7498473,\n",
    "         'ICDHyr':257.7498473,'SUCDi':233.664,'FUM':233.664,'PPC':30.92421098,'ICL':32.68244693}"
   ]
  },
  {
   "cell_type": "code",
   "execution_count": 220,
   "id": "64367196",
   "metadata": {},
   "outputs": [
    {
     "name": "stdout",
     "output_type": "stream",
     "text": [
      "PGI | 335.6647081122038 | 224.7179186\n",
      "PFK | 0.0 | 249.5301258\n",
      "FBA | 0.0 | 249.5301258\n",
      "TPI | -92.936467020474 | 249.5301258\n",
      "GAPD | 136.6446171341912 | 504.7619031\n",
      "PYK | 0.0 | 139.9624166\n",
      "PDH | 128.27862016679182 | 372.2827564\n",
      "GND | 114.33529188779642 | 64.39079794\n",
      "RPE | -63.28597422289289 | 26.84455913\n",
      "RPI | -169.2552691432901 | 37.54514687\n",
      "TKT1 | -26.06565579984681 | 17.83978343\n",
      "TALA | -292.8670583775581 | 17.83978343\n",
      "TKT2 | -37.22031842304608 | 9.003823619\n",
      "CS | 13.943328278999473 | 257.7498473\n",
      "ACONTa | 13.943328278999473 | 257.7498473\n",
      "ICDHyr | 13.943328278999473 | 257.7498473\n",
      "SUCDi | 13.943328278999502 | 233.664\n",
      "FUM | 13.943328278999502 | 233.664\n",
      "PPC | 0.0 | 30.92421098\n",
      "ICL | 0.0 | 32.68244693\n"
     ]
    }
   ],
   "source": [
    "flux_pr=[]\n",
    "flux_exl=[]\n",
    "for i in flujos:    \n",
    "    model2.reactions.get_by_id(i)\n",
    "    #print (model.reactions.get_by_id(i), model.reactions.get_by_id(i).name)\n",
    "    print (i,'|',solution_SPOT2[i],'|',flux_ex[i])\n",
    "    flux_exl.append(flux_ex[i])\n",
    "    flux_pr.append(solution_SPOT2[i])"
   ]
  },
  {
   "cell_type": "code",
   "execution_count": 221,
   "id": "59bdcee2",
   "metadata": {},
   "outputs": [
    {
     "data": {
      "image/png": "[encoded data removed]",
      "text/plain": [
       "<Figure size 432x288 with 1 Axes>"
      ]
     },
     "metadata": {
      "needs_background": "light"
     },
     "output_type": "display_data"
    }
   ],
   "source": [
    "#plot entre predecido y experimental\n",
    "\n",
    "x=flux_exl\n",
    "y=flux_pr\n",
    "\n",
    "plt.scatter(x,y,c=\"blue\")\n",
    "plt.xlabel('Flujo experimental')\n",
    "plt.ylabel('Flujo predecido')\n",
    "\n",
    "#Agregar Linea de tendencia por medio de Minimos Cuadrados Ordinarios \n",
    "m=np.array([np.ones(20),x]).T #Para ejecutar de forma correcta la ec. Beta es necesario agregar una columna de 1 en el eje X\n",
    "B=np.linalg.inv(m.T @m) @ m.T @y #ec. beta para realizar la linea de tendencia\n",
    "\n",
    "plt.plot([0,500],[B[0]+B[1]*1,B[0]+B[1]*500],c=\"red\") # Linea de tendencia\n",
    "\n",
    "plt.grid()\n",
    "plt.show()"
   ]
  },
  {
   "cell_type": "code",
   "execution_count": null,
   "id": "dcedacfa",
   "metadata": {},
   "outputs": [],
   "source": []
  },
  {
   "cell_type": "code",
   "execution_count": null,
   "id": "a4b32c7d",
   "metadata": {},
   "outputs": [],
   "source": []
  },
  {
   "cell_type": "code",
   "execution_count": null,
   "id": "f9a04281",
   "metadata": {},
   "outputs": [],
   "source": []
  }
 ],
 "metadata": {
  "kernelspec": {
   "display_name": "Python 3 (ipykernel)",
   "language": "python",
   "name": "python3"
  },
  "language_info": {
   "codemirror_mode": {
    "name": "ipython",
    "version": 3
   },
   "file_extension": ".py",
   "mimetype": "text/x-python",
   "name": "python",
   "nbconvert_exporter": "python",
   "pygments_lexer": "ipython3",
   "version": "3.7.5"
  }
 },
 "nbformat": 4,
 "nbformat_minor": 5
}
