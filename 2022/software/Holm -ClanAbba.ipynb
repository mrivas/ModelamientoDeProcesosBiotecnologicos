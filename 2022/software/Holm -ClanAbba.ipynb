{
 "cells": [
  {
   "cell_type": "code",
   "execution_count": 15,
   "id": "608d32ee",
   "metadata": {},
   "outputs": [],
   "source": [
    "#Prueba que las siguientes librerias estén disponibles\n",
    "\n",
    "import cobra.test\n",
    "import cplex # usaremos el cluster UTEM\n",
    "import pandas as pd\n",
    "import numpy as np\n",
    "import escher\n",
    "from escher import Builder"
   ]
  },
  {
   "cell_type": "code",
   "execution_count": 16,
   "id": "d6a9ef5f",
   "metadata": {},
   "outputs": [],
   "source": [
    "# Load fpkm data and model\n",
    "#transcriptomic for e.coli in sheets: Ishii, Holm, Rintalta \n",
    "#wget -O S2.xls 'https://journals.plos.org/plosone/article/file?type=supplementary&id=info:doi/10.1371/journal.pone.0157101.s002'\n",
    "\n",
    "data=pd.read_excel(\"S2.xls\",sheet_name=\"Transcriptomic data - Holm\", index_col=0, header=0) \n",
    "model = cobra.test.create_test_model(\"ecoli\")"
   ]
  },
  {
   "cell_type": "code",
   "execution_count": 17,
   "id": "d9d4176f",
   "metadata": {
    "scrolled": true
   },
   "outputs": [
    {
     "data": {
      "text/html": [
       "\n",
       "        <table>\n",
       "            <tr>\n",
       "                <td><strong>Name</strong></td>\n",
       "                <td>iJO1366</td>\n",
       "            </tr><tr>\n",
       "                <td><strong>Memory address</strong></td>\n",
       "                <td>0x07f66195f3610</td>\n",
       "            </tr><tr>\n",
       "                <td><strong>Number of metabolites</strong></td>\n",
       "                <td>1805</td>\n",
       "            </tr><tr>\n",
       "                <td><strong>Number of reactions</strong></td>\n",
       "                <td>2583</td>\n",
       "            </tr><tr>\n",
       "                <td><strong>Number of groups</strong></td>\n",
       "                <td>37</td>\n",
       "            </tr><tr>\n",
       "                <td><strong>Objective expression</strong></td>\n",
       "                <td>1.0*BIOMASS_Ec_iJO1366_core_53p95M - 1.0*BIOMASS_Ec_iJO1366_core_53p95M_reverse_5c8b1</td>\n",
       "            </tr><tr>\n",
       "                <td><strong>Compartments</strong></td>\n",
       "                <td>cytosol, extracellular space, periplasm</td>\n",
       "            </tr>\n",
       "          </table>"
      ],
      "text/plain": [
       "<Model iJO1366 at 0x7f66195f3610>"
      ]
     },
     "execution_count": 17,
     "metadata": {},
     "output_type": "execute_result"
    }
   ],
   "source": [
    "model"
   ]
  },
  {
   "cell_type": "code",
   "execution_count": 125,
   "id": "eeb3c7f8",
   "metadata": {},
   "outputs": [],
   "source": [
    "# Define una función para cargar los fpkm de acuerdo a las gene_reaction_rules\n",
    "\n",
    "def getG(grl,fpkm):\n",
    "    grl=grl.replace(\"(\",\"\")\n",
    "    grl=grl.replace(\")\",\"\")\n",
    "    g = 0\n",
    "    for subrule in grl.split(\"or\"):\n",
    "        g_subrule = []\n",
    "        for gene in subrule.split(\"and\"):\n",
    "            gene = gene.replace(\" \",\"\")\n",
    "            if gene in fpkm:\n",
    "                g_subrule.append( float(fpkm[gene]) )\n",
    "        if len(g_subrule)>=1: \n",
    "            g += min(g_subrule)\n",
    "    return(g)"
   ]
  },
  {
   "cell_type": "code",
   "execution_count": 153,
   "id": "04b52485",
   "metadata": {},
   "outputs": [],
   "source": [
    "# Create a dictionary with the fpkm of each gene\n",
    "\n",
    "fpkm={}\n",
    "\n",
    "for gene in model.genes:\n",
    "    if gene.id  in data.index:\n",
    "        fpkm[gene] = data[\"Ref\"].loc[gene.id]\n",
    "    #else:\n",
    "    #    print(gene.id,\" not found\")\n",
    "#len(fpkm)"
   ]
  },
  {
   "cell_type": "code",
   "execution_count": 154,
   "id": "a790c48f",
   "metadata": {},
   "outputs": [],
   "source": [
    "# Create a dictionary with the fpkm for each reaction\n",
    "g = {}\n",
    "mean_g = np.mean(list(fpkm.values()) ) # useful when not a grl available\n",
    "\n",
    "for reaction in model.reactions:\n",
    "    if reaction.gene_reaction_rule == \"\":\n",
    "        g[reaction.id] = mean_g    \n",
    "    else:\n",
    "        g[reaction.id] = getG(reaction.gene_reaction_rule,fpkm)\n",
    "        \n",
    "#g.values()\n"
   ]
  },
  {
   "cell_type": "code",
   "execution_count": 155,
   "id": "75114fb7",
   "metadata": {},
   "outputs": [],
   "source": [
    "#1 Define objecive function\n",
    "model = cobra.test.create_test_model(\"ecoli\")\n",
    "\n",
    "for i, reaction in enumerate(model.reactions):\n",
    "    if i == 0:\n",
    "        dotProduct_expression  = model.reactions.get_by_id(reaction.id).forward_variable*g[reaction.id]\n",
    "        dotProduct_expression += model.reactions.get_by_id(reaction.id).reverse_variable*g[reaction.id]\n",
    "    else:\n",
    "        dotProduct_expression += model.reactions.get_by_id(reaction.id).forward_variable*g[reaction.id]\n",
    "        dotProduct_expression += model.reactions.get_by_id(reaction.id).reverse_variable*g[reaction.id]"
   ]
  },
  {
   "cell_type": "code",
   "execution_count": 156,
   "id": "9f3a5afc",
   "metadata": {},
   "outputs": [],
   "source": [
    "dotProduct_objective = model.problem.Objective(dotProduct_expression,direction=\"min\")\n",
    "model.objective = dotProduct_objective \n"
   ]
  },
  {
   "cell_type": "code",
   "execution_count": 166,
   "id": "59e30d6b",
   "metadata": {},
   "outputs": [
    {
     "data": {
      "text/plain": [
       "(-9.2, -9.2)"
      ]
     },
     "execution_count": 166,
     "metadata": {},
     "output_type": "execute_result"
    }
   ],
   "source": [
    "#Fijación de glucosa\n",
    "model.reactions.get_by_id(\"EX_glc__D_e\").bounds=(-9.2,-9.2)\n",
    "model.reactions.get_by_id(\"EX_glc__D_e\").bounds"
   ]
  },
  {
   "cell_type": "code",
   "execution_count": 167,
   "id": "3c712927",
   "metadata": {},
   "outputs": [],
   "source": [
    "#2.3 Compute new distribution of fluxes\n",
    "solution_SPOT = model.optimize()"
   ]
  },
  {
   "cell_type": "code",
   "execution_count": 168,
   "id": "eb8dbb0d",
   "metadata": {},
   "outputs": [
    {
     "name": "stdout",
     "output_type": "stream",
     "text": [
      "Downloading Map from https://escher.github.io/1-0-0/6/maps/Escherichia%20coli/e_coli_core.Core%20metabolism.json\n",
      "Downloading Model from https://escher.github.io/1-0-0/6/models/Escherichia%20coli/e_coli_core.json\n"
     ]
    },
    {
     "data": {
      "application/vnd.jupyter.widget-view+json": {
       "model_id": "1170f7b975f74f38b7f01c4d6cd6239b",
       "version_major": 2,
       "version_minor": 0
      },
      "text/plain": [
       "Builder(reaction_data={'DM_4crsol_c': -0.0, 'DM_5drib_c': -0.0, 'DM_aacald_c': 0.0, 'DM_amob_c': -0.0, 'DM_mth…"
      ]
     },
     "metadata": {},
     "output_type": "display_data"
    }
   ],
   "source": [
    "import escher\n",
    "from escher import Builder\n",
    "builder=Builder(\n",
    "    map_name=\"e_coli_core.Core metabolism\",\n",
    "    model_name=\"e_coli_core\",\n",
    ")\n",
    "builder.reaction_data=solution_SPOT.fluxes\n",
    "builder"
   ]
  },
  {
   "cell_type": "code",
   "execution_count": 169,
   "id": "c37906fa",
   "metadata": {},
   "outputs": [],
   "source": [
    "#builder.reaction_data"
   ]
  },
  {
   "cell_type": "code",
   "execution_count": 170,
   "id": "aa4b938c",
   "metadata": {},
   "outputs": [],
   "source": [
    "#fpkm.values()"
   ]
  },
  {
   "cell_type": "code",
   "execution_count": 171,
   "id": "b0a0ac91",
   "metadata": {
    "scrolled": false
   },
   "outputs": [
    {
     "data": {
      "image/png": "[encoded data removed]",
      "text/plain": [
       "<Figure size 432x288 with 1 Axes>"
      ]
     },
     "metadata": {
      "needs_background": "light"
     },
     "output_type": "display_data"
    }
   ],
   "source": [
    "import numpy as np\n",
    "import scipy as sc\n",
    "import matplotlib\n",
    "import matplotlib.pyplot as plt\n",
    "\n",
    "#Definiendo ejes\n",
    "\n",
    "x=g.values()\n",
    "y=solution_SPOT.fluxes\n",
    "#Etiquetas de titulo y ejes\n",
    "plt.plot(x, y.values[0:], 'o')\n",
    "\n",
    "plt.title('Correlación g vs v Holm et al.',fontsize = 10,fontweight = \"bold\")\n",
    "plt.xlabel('g')\n",
    "plt.ylabel('v')\n",
    "\n",
    "\n",
    "plt.grid()\n",
    "plt.show()"
   ]
  },
  {
   "cell_type": "code",
   "execution_count": 172,
   "id": "35fc4ac4",
   "metadata": {},
   "outputs": [],
   "source": [
    "flujos=[\"GLCptspp\",'PGI','FBA','TPI',\"GAPD\",\"PYK\",\"PGL\",\"GND\",\"RPE\",\"RPI\",\"TKT1\",\"TKT2\",\"TALA\",\"CS\",\"ACONTa\",\"ICDHyr\",\"PDH\",\"ME1\",\"PPC\",\"PTAr\"]\n",
    "#valores EXPERIMENTALES isshi\n",
    "flux_ex={'GLCptspp':11.7,'PGI':6.8,'FBA':9.6,'TPI':9.6,'GAPD':20.4,\n",
    "         'PYK':4.9,'PGL':4.9,'GND':4.9,'RPE':2.8,'RPI':2.1,\n",
    "     'TKT1':1.5,'TKT2':1.3,'TALA':1.5,'CS':5.6,'ACONTa':5.6,\n",
    "         'ICDHyr':5.6,'PDH':15,'ME1':0.2,'PPC':4,'PTAr':7.9}"
   ]
  },
  {
   "cell_type": "code",
   "execution_count": 173,
   "id": "64dbf5cd",
   "metadata": {},
   "outputs": [
    {
     "name": "stdout",
     "output_type": "stream",
     "text": [
      "GLCptspp | 0.0 | 11.7\n",
      "PGI | 0.0 | 6.8\n",
      "FBA | 0.24948453608247417 | 9.6\n",
      "TPI | 0.24948453608247417 | 9.6\n",
      "GAPD | 0.0 | 20.4\n",
      "PYK | 0.0 | 4.9\n",
      "PGL | 0.0 | 4.9\n",
      "GND | 0.0 | 4.9\n",
      "RPE | -0.9979381443298967 | 2.8\n",
      "RPI | -0.9979381443298967 | 2.1\n",
      "TKT1 | -0.49896907216494835 | 1.5\n",
      "TKT2 | -0.4989690721649483 | 1.3\n",
      "TALA | -0.4989690721649483 | 1.5\n",
      "CS | 0.0 | 5.6\n",
      "ACONTa | 0.0 | 5.6\n",
      "ICDHyr | 0.0 | 5.6\n",
      "PDH | 0.0 | 15\n",
      "ME1 | 0.0 | 0.2\n",
      "PPC | 0.0 | 4\n",
      "PTAr | 0.0 | 7.9\n"
     ]
    }
   ],
   "source": [
    "flux_pr=[]\n",
    "flux_exl=[]\n",
    "for i in flujos:    \n",
    "    model.reactions.get_by_id(i)\n",
    "    #print (model.reactions.get_by_id(i), model.reactions.get_by_id(i).name)\n",
    "    print (i,'|',solution_SPOT[i],'|',flux_ex[i])\n",
    "    flux_exl.append(flux_ex[i])\n",
    "    flux_pr.append(solution_SPOT[i])"
   ]
  },
  {
   "cell_type": "code",
   "execution_count": 174,
   "id": "3dd7d6db",
   "metadata": {},
   "outputs": [
    {
     "data": {
      "image/png": "[encoded data removed]",
      "text/plain": [
       "<Figure size 432x288 with 1 Axes>"
      ]
     },
     "metadata": {
      "needs_background": "light"
     },
     "output_type": "display_data"
    }
   ],
   "source": [
    "x=flux_exl\n",
    "y=flux_pr\n",
    "\n",
    "plt.scatter(x,y,c=\"blue\")\n",
    "plt.xlabel('Flujo experimental')\n",
    "plt.ylabel('Flujo predecido')\n",
    "\n",
    "#Agregar Linea de tendencia por medio de Minimos Cuadrados Ordinarios \n",
    "m=np.array([np.ones(20),x]).T #Para ejecutar de forma correcta la ec. Beta es necesario agregar una columna de 1 en el eje X\n",
    "B=np.linalg.inv(m.T @m) @ m.T @y #ec. beta para realizar la linea de tendencia\n",
    "\n",
    "plt.plot([0,25],[B[0]+B[1]*1,B[0]+B[1]*25],c=\"red\") # Linea de tendencia\n",
    "\n",
    "plt.grid()\n",
    "plt.show()"
   ]
  },
  {
   "cell_type": "code",
   "execution_count": null,
   "id": "e177b951",
   "metadata": {},
   "outputs": [],
   "source": []
  },
  {
   "cell_type": "code",
   "execution_count": null,
   "id": "8a075439",
   "metadata": {},
   "outputs": [],
   "source": []
  },
  {
   "cell_type": "code",
   "execution_count": null,
   "id": "29e88a6b",
   "metadata": {},
   "outputs": [],
   "source": []
  }
 ],
 "metadata": {
  "kernelspec": {
   "display_name": "Python 3 (ipykernel)",
   "language": "python",
   "name": "python3"
  },
  "language_info": {
   "codemirror_mode": {
    "name": "ipython",
    "version": 3
   },
   "file_extension": ".py",
   "mimetype": "text/x-python",
   "name": "python",
   "nbconvert_exporter": "python",
   "pygments_lexer": "ipython3",
   "version": "3.7.5"
  }
 },
 "nbformat": 4,
 "nbformat_minor": 5
}
