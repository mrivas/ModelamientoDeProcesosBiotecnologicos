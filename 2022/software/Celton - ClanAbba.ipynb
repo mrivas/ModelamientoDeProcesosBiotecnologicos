{
 "cells": [
  {
   "cell_type": "code",
   "execution_count": 414,
   "id": "253e66d9",
   "metadata": {},
   "outputs": [],
   "source": [
    "#Cargando librerias\n",
    "\n",
    "import cobra.test\n",
    "import cplex # usaremos el cluster UTEM\n",
    "import pandas as pd\n",
    "import numpy as np\n",
    "import escher\n",
    "from escher import Builder"
   ]
  },
  {
   "cell_type": "code",
   "execution_count": 415,
   "id": "2cb53019",
   "metadata": {},
   "outputs": [],
   "source": [
    "#Cargamos el modelo de S.cerevisiae con datos transcriptómicos de la hoja Celton \n",
    "data=pd.read_excel(\"S2.xls\",sheet_name=\"Transcriptomic data - Celton\", index_col=0, header=0) \n",
    "model=cobra.io.read_sbml_model(\"iMM904.xml\")"
   ]
  },
  {
   "cell_type": "code",
   "execution_count": 416,
   "id": "1aec56d5",
   "metadata": {},
   "outputs": [
    {
     "data": {
      "text/html": [
       "\n",
       "        <table>\n",
       "            <tr>\n",
       "                <td><strong>Name</strong></td>\n",
       "                <td>iMM904</td>\n",
       "            </tr><tr>\n",
       "                <td><strong>Memory address</strong></td>\n",
       "                <td>0x07f7b6dd63590</td>\n",
       "            </tr><tr>\n",
       "                <td><strong>Number of metabolites</strong></td>\n",
       "                <td>1226</td>\n",
       "            </tr><tr>\n",
       "                <td><strong>Number of reactions</strong></td>\n",
       "                <td>1577</td>\n",
       "            </tr><tr>\n",
       "                <td><strong>Number of groups</strong></td>\n",
       "                <td>0</td>\n",
       "            </tr><tr>\n",
       "                <td><strong>Objective expression</strong></td>\n",
       "                <td>1.0*BIOMASS_SC5_notrace - 1.0*BIOMASS_SC5_notrace_reverse_93090</td>\n",
       "            </tr><tr>\n",
       "                <td><strong>Compartments</strong></td>\n",
       "                <td>cytosol, extracellular space, mitochondria, peroxisome/glyoxysome, endoplasmic reticulum, vacuole, golgi apparatus, nucleus</td>\n",
       "            </tr>\n",
       "          </table>"
      ],
      "text/plain": [
       "<Model iMM904 at 0x7f7b6dd63590>"
      ]
     },
     "execution_count": 416,
     "metadata": {},
     "output_type": "execute_result"
    }
   ],
   "source": [
    "model"
   ]
  },
  {
   "cell_type": "code",
   "execution_count": 417,
   "id": "c0245eb4",
   "metadata": {},
   "outputs": [],
   "source": [
    "# Define una función para cargar los fpkm de acuerdo a las gene_reaction_rules\n",
    "\n",
    "def getG(grl,fpkm):\n",
    "    grl=grl.replace(\"(\",\"\")\n",
    "    grl=grl.replace(\")\",\"\")\n",
    "    g = 0\n",
    "    for subrule in grl.split(\"or\"):\n",
    "        g_subrule = []\n",
    "        for gene in subrule.split(\"and\"):\n",
    "            gene = gene.replace(\" \",\"\")\n",
    "            if gene in fpkm:\n",
    "                g_subrule.append( float(fpkm[gene]) )\n",
    "        if len(g_subrule)>=1: \n",
    "            g += min(g_subrule)\n",
    "    return(g)\n",
    "\n",
    "#print(g)"
   ]
  },
  {
   "cell_type": "code",
   "execution_count": 418,
   "id": "5e119b23",
   "metadata": {},
   "outputs": [],
   "source": [
    "# Create a dictionary with the fpkm of each gene\n",
    "\n",
    "fpkm={}\n",
    "\n",
    "for gene in model.genes:\n",
    "    if gene.id  in data.index:\n",
    "        fpkm[gene] = data[\"RF\"].loc[gene.id]\n",
    "    #else:\n",
    "    #    print(gene.id,\" not found\")\n",
    "    \n",
    "#fpkm.values()"
   ]
  },
  {
   "cell_type": "code",
   "execution_count": 419,
   "id": "c4194553",
   "metadata": {},
   "outputs": [],
   "source": [
    "# Create a dictionary with the fpkm for each reaction \n",
    "g2 = {}\n",
    "mean_g = np.mean(list(fpkm.values()) ) # useful when not a grl available\n",
    "\n",
    "for reaction in model.reactions:\n",
    "    if reaction.gene_reaction_rule == \"\":\n",
    "        g2[reaction.id] = mean_g    \n",
    "    else:\n",
    "        g2[reaction.id] = getG(reaction.gene_reaction_rule,fpkm)\n",
    "\n",
    "#g2\n",
    "#mean_g RESULTA 5.6\n",
    "#getG(reaction.gene_reaction_rule,fpkm) RESULTA 0"
   ]
  },
  {
   "cell_type": "code",
   "execution_count": 420,
   "id": "d8a92b73",
   "metadata": {},
   "outputs": [],
   "source": [
    "#1 Define objecive function\n",
    "model=cobra.io.read_sbml_model(\"iMM904.xml\")\n",
    "\n",
    "for i, reaction in enumerate(model.reactions):\n",
    "    if i == 0:\n",
    "        dotProduct_expression  = model.reactions.get_by_id(reaction.id).forward_variable*g2[reaction.id]\n",
    "        dotProduct_expression += model.reactions.get_by_id(reaction.id).reverse_variable*g2[reaction.id]\n",
    "    else:\n",
    "        dotProduct_expression += model.reactions.get_by_id(reaction.id).forward_variable*g2[reaction.id]\n",
    "        dotProduct_expression += model.reactions.get_by_id(reaction.id).reverse_variable*g2[reaction.id]\n",
    "        \n",
    "#print(dotProduct_expression)"
   ]
  },
  {
   "cell_type": "code",
   "execution_count": 421,
   "id": "3a0e284c",
   "metadata": {},
   "outputs": [],
   "source": [
    "dotProduct_objective = model.problem.Objective(dotProduct_expression,direction=\"min\")\n",
    "model.objective = dotProduct_objective \n"
   ]
  },
  {
   "cell_type": "code",
   "execution_count": 422,
   "id": "2632c6be",
   "metadata": {},
   "outputs": [
    {
     "data": {
      "text/plain": [
       "(-90, -90)"
      ]
     },
     "execution_count": 422,
     "metadata": {},
     "output_type": "execute_result"
    }
   ],
   "source": [
    "#Fijación de glucosa\n",
    "model.reactions.get_by_id(\"EX_glc__D_e\").bounds=(-90,-90)\n",
    "model.reactions.get_by_id(\"EX_glc__D_e\").bounds"
   ]
  },
  {
   "cell_type": "code",
   "execution_count": 423,
   "id": "da08afe2",
   "metadata": {},
   "outputs": [],
   "source": [
    "solution_SPOT = model.optimize()"
   ]
  },
  {
   "cell_type": "code",
   "execution_count": 424,
   "id": "76fc5df4",
   "metadata": {},
   "outputs": [
    {
     "data": {
      "text/html": [
       "<strong><em>Optimal</em> solution with objective value 2102.059</strong><br><div>\n",
       "<style scoped>\n",
       "    .dataframe tbody tr th:only-of-type {\n",
       "        vertical-align: middle;\n",
       "    }\n",
       "\n",
       "    .dataframe tbody tr th {\n",
       "        vertical-align: top;\n",
       "    }\n",
       "\n",
       "    .dataframe thead th {\n",
       "        text-align: right;\n",
       "    }\n",
       "</style>\n",
       "<table border=\"1\" class=\"dataframe\">\n",
       "  <thead>\n",
       "    <tr style=\"text-align: right;\">\n",
       "      <th></th>\n",
       "      <th>fluxes</th>\n",
       "      <th>reduced_costs</th>\n",
       "    </tr>\n",
       "  </thead>\n",
       "  <tbody>\n",
       "    <tr>\n",
       "      <th>CITtcp</th>\n",
       "      <td>0.000000</td>\n",
       "      <td>-1.121098e+01</td>\n",
       "    </tr>\n",
       "    <tr>\n",
       "      <th>13BGH</th>\n",
       "      <td>0.000000</td>\n",
       "      <td>0.000000e+00</td>\n",
       "    </tr>\n",
       "    <tr>\n",
       "      <th>13BGHe</th>\n",
       "      <td>0.000000</td>\n",
       "      <td>3.545800e+01</td>\n",
       "    </tr>\n",
       "    <tr>\n",
       "      <th>13GS</th>\n",
       "      <td>0.000000</td>\n",
       "      <td>1.772900e+01</td>\n",
       "    </tr>\n",
       "    <tr>\n",
       "      <th>16GS</th>\n",
       "      <td>0.000000</td>\n",
       "      <td>0.000000e+00</td>\n",
       "    </tr>\n",
       "    <tr>\n",
       "      <th>...</th>\n",
       "      <td>...</td>\n",
       "      <td>...</td>\n",
       "    </tr>\n",
       "    <tr>\n",
       "      <th>PYDXO</th>\n",
       "      <td>0.000000</td>\n",
       "      <td>1.776357e-15</td>\n",
       "    </tr>\n",
       "    <tr>\n",
       "      <th>PYK</th>\n",
       "      <td>22.333333</td>\n",
       "      <td>4.440892e-16</td>\n",
       "    </tr>\n",
       "    <tr>\n",
       "      <th>PYNP2r</th>\n",
       "      <td>0.000000</td>\n",
       "      <td>-6.518014e+00</td>\n",
       "    </tr>\n",
       "    <tr>\n",
       "      <th>PYR5CDm</th>\n",
       "      <td>0.000000</td>\n",
       "      <td>-1.776357e-15</td>\n",
       "    </tr>\n",
       "    <tr>\n",
       "      <th>PYRDC</th>\n",
       "      <td>11.166667</td>\n",
       "      <td>0.000000e+00</td>\n",
       "    </tr>\n",
       "  </tbody>\n",
       "</table>\n",
       "<p>1577 rows × 2 columns</p>\n",
       "</div>"
      ],
      "text/plain": [
       "<Solution 2102.059 at 0x7f7b62551f10>"
      ]
     },
     "execution_count": 424,
     "metadata": {},
     "output_type": "execute_result"
    }
   ],
   "source": [
    "solution_SPOT"
   ]
  },
  {
   "cell_type": "code",
   "execution_count": 425,
   "id": "914e5e5c",
   "metadata": {},
   "outputs": [
    {
     "name": "stdout",
     "output_type": "stream",
     "text": [
      "Downloading Map from https://escher.github.io/1-0-0/6/maps/Saccharomyces%20cerevisiae/iMM904.Central%20carbon%20metabolism.json\n",
      "Downloading Model from https://escher.github.io/1-0-0/6/models/Saccharomyces%20cerevisiae/iMM904.json\n"
     ]
    },
    {
     "data": {
      "application/vnd.jupyter.widget-view+json": {
       "model_id": "62067fc238fa414a85b75a6c1a2fb6a8",
       "version_major": 2,
       "version_minor": 0
      },
      "text/plain": [
       "Builder(reaction_data={'CITtcp': 0.0, '13BGH': 0.0, '13BGHe': 0.0, '13GS': 0.0, '16GS': 0.0, '23CAPPD': 0.0, '…"
      ]
     },
     "metadata": {},
     "output_type": "display_data"
    }
   ],
   "source": [
    "builder=Builder(\n",
    "    map_name=\"iMM904.Central carbon metabolism\",\n",
    "    model_name=\"iMM904\",\n",
    ")\n",
    "builder.reaction_data=solution_SPOT.fluxes\n",
    "builder"
   ]
  },
  {
   "cell_type": "code",
   "execution_count": 426,
   "id": "cb15878e",
   "metadata": {},
   "outputs": [
    {
     "data": {
      "image/png": "[encoded data removed]",
      "text/plain": [
       "<Figure size 720x504 with 1 Axes>"
      ]
     },
     "metadata": {},
     "output_type": "display_data"
    }
   ],
   "source": [
    "#NOS DA UN GRAFICO DE ESTE MODO DEBIDO A QUE LOS VALORES DE EXP GENETICA DESPUES DE LAS SUBREGLAS IMPUESTAS (g) SE CENTRAN EN 0 Y 5.6, NO HAY VARIABILIDAD, REVISAR.\n",
    "import numpy as np\n",
    "import scipy as sc\n",
    "import matplotlib\n",
    "import matplotlib.pyplot as plt\n",
    "\n",
    "#Definiendo ejes\n",
    "\n",
    "x=g.values()\n",
    "y=solution_SPOT.fluxes\n",
    "#Etiquetas de titulo y ejes\n",
    "plt.plot(x, y.values[0:], 'o')\n",
    "\n",
    "plt.title('Correlación g vs v (Celton et al.)',fontsize = 10,fontweight = \"bold\")\n",
    "plt.xlabel('g')\n",
    "plt.ylabel('v')\n",
    "\n",
    "\n",
    "plt.grid()\n",
    "plt.show()"
   ]
  },
  {
   "cell_type": "code",
   "execution_count": 427,
   "id": "03e70f7b",
   "metadata": {},
   "outputs": [
    {
     "name": "stdout",
     "output_type": "stream",
     "text": [
      "GHMT2r | 0.0 | 0.14\n",
      "THRA | 0.0 | 0.09\n",
      "ACS | 0.0 | 0.3\n",
      "PDHm | 0.0 | 1.37\n",
      "PC | 0.0 | 4.21\n",
      "PGI | -3.8333333333333393 | 84.7\n",
      "PYK | 22.33333333333332 | 169.2\n",
      "PYRDC | 11.16666666666666 | 164.3\n",
      "ALCD2ir | 0.0 | 162\n",
      "ALDD2y | 0.0 | 2.42\n",
      "G3PT | 16.499999999999996 | 17.8\n",
      "EX_etoh_e | 0.0 | 162\n",
      "EX_ac_e | 0.0 | 2.13\n",
      "EX_glyc_e | 0.0 | 17.8\n",
      "EX_succ_e | -0.0 | 0.3\n",
      "EX_co2_e | 54.333333333333314 | 176.2\n",
      "TKT1 | 10.666666666666668 | 1.72\n",
      "TALA | 10.666666666666668 | 3.79\n",
      "TKT2 | 6.0 | 5.65\n",
      "PYRt2m | 0.0 | 0.41\n"
     ]
    }
   ],
   "source": [
    "flujos=['GHMT2r','THRA','ACS','PDHm','PC','PGI','PYK','PYRDC','ALCD2ir','ALDD2y','G3PT','EX_etoh_e','EX_ac_e','EX_glyc_e','EX_succ_e','EX_co2_e','TKT1','TALA','TKT2','PYRt2m']\n",
    "flux_ex={'GHMT2r':0.14,'THRA':0.09,'ACS':0.3,'PDHm':1.37,'PC':4.21,'PGI':84.7,\n",
    "         'PYK':169.2,'PYRDC':164.3,'ALCD2ir':162,'ALDD2y':2.42,'G3PT':17.8,\n",
    "         'EX_etoh_e':162,'EX_ac_e':2.13,'EX_glyc_e':17.8,'EX_succ_e':0.3,'EX_co2_e':176.2,'TKT1':1.72,'TALA':3.79,'TKT2':5.65,'PYRt2m':0.41}\n",
    "\n",
    "flux_pr=[]\n",
    "flux_exl=[]\n",
    "for i in flujos:    \n",
    "    model.reactions.get_by_id(i)\n",
    "    #print (model.reactions.get_by_id(i), model.reactions.get_by_id(i).name)\n",
    "    print (i,'|',solution_SPOT[i],'|',flux_ex[i])\n",
    "    flux_exl.append(flux_ex[i])\n",
    "    flux_pr.append(solution_SPOT[i])\n"
   ]
  },
  {
   "cell_type": "code",
   "execution_count": 433,
   "id": "d528adae",
   "metadata": {},
   "outputs": [
    {
     "data": {
      "image/png": "[encoded data removed]",
      "text/plain": [
       "<Figure size 720x504 with 1 Axes>"
      ]
     },
     "metadata": {},
     "output_type": "display_data"
    }
   ],
   "source": [
    "#plot entre predecido y experimental\n",
    "\n",
    "x=flux_exl\n",
    "y=flux_pr\n",
    "\n",
    "plt.scatter(x,y,c=\"green\")\n",
    "plt.xlabel('Flujo experimental')\n",
    "plt.ylabel('Flujo predecido')\n",
    "\n",
    "#Agregar Linea de tendencia por medio de Minimos Cuadrados Ordinarios \n",
    "m=np.array([np.ones(20),x]).T #Para ejecutar de forma correcta la ec. Beta es necesario agregar una columna de 1 en el eje X\n",
    "B=np.linalg.inv(m.T @m) @ m.T @y #ec. beta para realizar la linea de tendencia\n",
    "\n",
    "plt.plot([0,180],[B[0]+B[1]*1,B[0]+B[1]*180],c=\"red\") # Linea de tendencia\n",
    "\n",
    "plt.grid()\n",
    "plt.show()"
   ]
  },
  {
   "cell_type": "code",
   "execution_count": null,
   "id": "99153ad7",
   "metadata": {},
   "outputs": [],
   "source": []
  }
 ],
 "metadata": {
  "kernelspec": {
   "display_name": "Python 3 (ipykernel)",
   "language": "python",
   "name": "python3"
  },
  "language_info": {
   "codemirror_mode": {
    "name": "ipython",
    "version": 3
   },
   "file_extension": ".py",
   "mimetype": "text/x-python",
   "name": "python",
   "nbconvert_exporter": "python",
   "pygments_lexer": "ipython3",
   "version": "3.7.5"
  }
 },
 "nbformat": 4,
 "nbformat_minor": 5
}
