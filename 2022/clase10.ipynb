{
 "cells": [
  {
   "cell_type": "markdown",
   "metadata": {
    "slideshow": {
     "slide_type": "slide"
    }
   },
   "source": [
    "# Clase 10\n",
    "\n",
    "Objetivos\n",
    "\n",
    "1. Introducción a Cloud Computing.\n",
    "2. Uso de jupyter en el supercomputador.\n",
    "2. Alternativa a FBA que produce soluciones únicas: minFlux\n",
    "3. Modelo que incorpora información transcriptómica: SPOT"
   ]
  },
  {
   "cell_type": "markdown",
   "metadata": {
    "slideshow": {
     "slide_type": "slide"
    }
   },
   "source": [
    "# 1. Introducción a Cloud Computing\n",
    "\n",
    "\n",
    "Revisemos esta pequeña [presentación](https://docs.google.com/presentation/d/12me-vn1Dsa5LktzO-Ivk4PKsLO4TXjBolbHP5OQT2HY/edit?usp=sharing) a modo de introducción.\n"
   ]
  },
  {
   "cell_type": "markdown",
   "metadata": {
    "slideshow": {
     "slide_type": "slide"
    }
   },
   "source": [
    "# 2. Uso de jupyter en el supercomputador\n",
    "\n",
    "La clase de hoy requiere de la librería cplex. Cplex es un software comercial para hacer optimización lineal, cuadrática, y entera. Cplex proporciona una licensia gratis para uso académico. La clase de hoy la realizaremos en el supercomputador de Amazon Web Services. En ese computadore cplex ya está instalado.\n",
    "\n",
    "descarga el script [aws_jupyter_windows.sh](https://drive.google.com/file/d/1oG2UnlPMpACywDEbJG86KYixqSCEwFp3/view?usp=sharing) en tu computador y en el terminal ejecuta:\n",
    "\n",
    "``` \n",
    "bash utem_jupyter_windows.sh -u username\n",
    "```"
   ]
  },
  {
   "cell_type": "markdown",
   "metadata": {
    "slideshow": {
     "slide_type": "slide"
    }
   },
   "source": [
    "Si usas Linux o Mac usa este script en vez: [aws_jupyter_linux.sh](https://drive.google.com/file/d/1_H8TLpI6XV98UUgoAxTKK7bi5Gyjonhb/view?usp=sharing). En tu computador y en el terminal ejecuta:\n",
    "\n",
    "``` \n",
    "bash utem_jupyter_linux.sh -u username\n",
    "```"
   ]
  },
  {
   "cell_type": "code",
   "execution_count": null,
   "metadata": {
    "scrolled": true,
    "slideshow": {
     "slide_type": "slide"
    }
   },
   "outputs": [],
   "source": [
    "#Prueba que las siguientes librerias estén disponibles\n",
    "\n",
    "import cobra.test\n",
    "import cplex # usaremos el cluster UTEM\n",
    "import pandas as pd\n",
    "import numpy as np"
   ]
  },
  {
   "cell_type": "markdown",
   "metadata": {
    "slideshow": {
     "slide_type": "slide"
    }
   },
   "source": [
    "# 3. minFLUX\n",
    "\n",
    "La ventaja de minFlux sobre FBA es que se obtiene una solución única. MinFlux también elimina ciclos termodinámicamente infactibles. Sin embargo, minFlux también elimina ciclos que se han observado como activos. Por ejemplo, en *Escherichia coli*  elimina el ciclo del glyoxilato, aún cuando este se ha observado como [activo](https://journals.plos.org/plosone/article/authors?id=10.1371/journal.pone.0243067). Veamos una implementación de minFlux en Python."
   ]
  },
  {
   "cell_type": "code",
   "execution_count": null,
   "metadata": {
    "slideshow": {
     "slide_type": "slide"
    }
   },
   "outputs": [],
   "source": [
    "import optlang \n",
    "optlang.available_solvers"
   ]
  },
  {
   "cell_type": "code",
   "execution_count": null,
   "metadata": {
    "slideshow": {
     "slide_type": "slide"
    }
   },
   "outputs": [],
   "source": [
    "#1. Compute biomass flux using FBA\n",
    "model = cobra.test.create_test_model(\"ecoli\")\n",
    "solution_fba = model.optimize()\n",
    "\n",
    "sumFluxes = 0\n",
    "for reaction in model.reactions:\n",
    "    sumFluxes += solution_fba[reaction.id]**2\n",
    "print(model.objective.value, sumFluxes)"
   ]
  },
  {
   "cell_type": "code",
   "execution_count": null,
   "metadata": {
    "slideshow": {
     "slide_type": "slide"
    }
   },
   "outputs": [],
   "source": [
    "#2. Run minFlux"
   ]
  },
  {
   "cell_type": "code",
   "execution_count": null,
   "metadata": {
    "slideshow": {
     "slide_type": "slide"
    }
   },
   "outputs": [],
   "source": [
    "#2.1 Set v_biomass to the value found using FBA\n",
    "\n",
    "model.reactions.BIOMASS_Ec_iJO1366_core_53p95M.bounds=(solution_fba[\"BIOMASS_Ec_iJO1366_core_53p95M\"]\n",
    "                                          ,solution_fba[\"BIOMASS_Ec_iJO1366_core_53p95M\"])"
   ]
  },
  {
   "cell_type": "code",
   "execution_count": null,
   "metadata": {
    "slideshow": {
     "slide_type": "slide"
    }
   },
   "outputs": [],
   "source": [
    "#2.1 Add Euclidean objecive function\n",
    "\n",
    "for i, reaction in enumerate(model.reactions):\n",
    "    if i == 0:\n",
    "        euclidean_expression  = model.reactions.get_by_id(reaction.id).flux_expression**2\n",
    "    else:\n",
    "        euclidean_expression += model.reactions.get_by_id(reaction.id).flux_expression**2\n",
    "        \n",
    "euclidean_objective = model.problem.Objective(euclidean_expression,direction=\"min\")\n",
    "model.objective = euclidean_objective        "
   ]
  },
  {
   "cell_type": "code",
   "execution_count": null,
   "metadata": {
    "slideshow": {
     "slide_type": "slide"
    }
   },
   "outputs": [],
   "source": [
    "#2.3 Compute new distribution of fluxes\n",
    "solution_minFlux = model.optimize()"
   ]
  },
  {
   "cell_type": "code",
   "execution_count": null,
   "metadata": {
    "slideshow": {
     "slide_type": "slide"
    }
   },
   "outputs": [],
   "source": [
    "sumFluxes = 0\n",
    "for reaction in model.reactions:\n",
    "    sumFluxes += solution_minFlux[reaction.id]**2\n",
    "print(solution_minFlux[\"BIOMASS_Ec_iJO1366_core_53p95M\"], model.objective.value, sumFluxes)"
   ]
  },
  {
   "cell_type": "markdown",
   "metadata": {
    "slideshow": {
     "slide_type": "slide"
    }
   },
   "source": [
    "## Ejercicio 1\n",
    "\n",
    "Predecir los flujos de *Saccharomyces ceverisiae* (iMM904) usando minFlux"
   ]
  },
  {
   "cell_type": "markdown",
   "metadata": {
    "slideshow": {
     "slide_type": "slide"
    }
   },
   "source": [
    "# 4. SPOT"
   ]
  },
  {
   "cell_type": "markdown",
   "metadata": {
    "slideshow": {
     "slide_type": "slide"
    }
   },
   "source": [
    "SPOT utiliza información transcriptómica para producir soluciones únicas. A diferencia de FBA y minFlux, SPOT no necesita un reacción de biomasa, lo cual es especialmente útil para celulas pluricelulares en donde maximizar biomasa no es típicamente una función objetivo apropiada.\n",
    "\n",
    "Usemos como ejemplo los datos recopilados por et al [Min Kyung Kim et al](https://journals.plos.org/plosone/article?id=10.1371/journal.pone.0157101#sec021)."
   ]
  },
  {
   "cell_type": "code",
   "execution_count": null,
   "metadata": {
    "slideshow": {
     "slide_type": "slide"
    }
   },
   "outputs": [],
   "source": [
    "# Load fpkm data and model\n",
    "\n",
    "#wget -O S2.xls 'https://journals.plos.org/plosone/article/file?type=supplementary&id=info:doi/10.1371/journal.pone.0157101.s002'\n",
    "\n",
    "data=pd.read_excel(\"S2.xls\",sheet_name=\"Transcriptomic data - Holm\", index_col=0, header=0) \n",
    "model = cobra.test.create_test_model(\"ecoli\")"
   ]
  },
  {
   "cell_type": "code",
   "execution_count": null,
   "metadata": {
    "slideshow": {
     "slide_type": "slide"
    }
   },
   "outputs": [],
   "source": [
    "# Define una función para cargar los fpkm de acuerdo a las gene_reaction_rules\n",
    "\n",
    "def getG(grl,fpkm):\n",
    "    grl=grl.replace(\"(\",\"\")\n",
    "    grl=grl.replace(\")\",\"\")\n",
    "    g = 0\n",
    "    for subrule in grl.split(\"or\"):\n",
    "        g_subrule = []\n",
    "        for gene in subrule.split(\"and\"):\n",
    "            gene = gene.replace(\" \",\"\")\n",
    "            if gene in fpkm:\n",
    "                g_subrule.append( float(fpkm[gene]) )\n",
    "        if len(g_subrule)>=1: \n",
    "            g += min(g_subrule)\n",
    "    return(g)"
   ]
  },
  {
   "cell_type": "code",
   "execution_count": null,
   "metadata": {
    "slideshow": {
     "slide_type": "slide"
    }
   },
   "outputs": [],
   "source": [
    "# Create a dictionary with the fpkm of each gene\n",
    "\n",
    "fpkm={}\n",
    "\n",
    "for gene in model.genes:\n",
    "    if gene.id  in data.index:\n",
    "        fpkm[gene] = data[\"Ref\"].loc[gene.id]\n",
    "    #else:\n",
    "    #    print(gene.id,\" not found\")"
   ]
  },
  {
   "cell_type": "code",
   "execution_count": null,
   "metadata": {
    "slideshow": {
     "slide_type": "slide"
    }
   },
   "outputs": [],
   "source": [
    "# Create a dictionary with the fpkm for each reaction\n",
    "g = {}\n",
    "mean_g = np.mean(list(fpkm.values()) ) # useful when not a grl available\n",
    "\n",
    "for reaction in model.reactions:\n",
    "    if reaction.gene_reaction_rule == \"\":\n",
    "        g[reaction.id] = mean_g    \n",
    "    else:\n",
    "        g[reaction.id] = getG(reaction.gene_reaction_rule,fpkm)"
   ]
  },
  {
   "cell_type": "code",
   "execution_count": null,
   "metadata": {
    "slideshow": {
     "slide_type": "slide"
    }
   },
   "outputs": [],
   "source": [
    "#1 Define objecive function\n",
    "model = cobra.test.create_test_model(\"ecoli\")\n",
    "\n",
    "for i, reaction in enumerate(model.reactions):\n",
    "    if i == 0:\n",
    "        dotProduct_expression  = model.reactions.get_by_id(reaction.id).forward_variable*g[reaction.id]\n",
    "        dotProduct_expression += model.reactions.get_by_id(reaction.id).reverse_variable*g[reaction.id]\n",
    "    else:\n",
    "        dotProduct_expression += model.reactions.get_by_id(reaction.id).forward_variable*g[reaction.id]\n",
    "        dotProduct_expression += model.reactions.get_by_id(reaction.id).reverse_variable*g[reaction.id]"
   ]
  },
  {
   "cell_type": "code",
   "execution_count": null,
   "metadata": {
    "slideshow": {
     "slide_type": "slide"
    }
   },
   "outputs": [],
   "source": [
    "dotProduct_objective = model.problem.Objective(dotProduct_expression,direction=\"min\")\n",
    "model.objective = dotProduct_objective "
   ]
  },
  {
   "cell_type": "code",
   "execution_count": null,
   "metadata": {
    "slideshow": {
     "slide_type": "slide"
    }
   },
   "outputs": [],
   "source": [
    "#2.3 Compute new distribution of fluxes\n",
    "solution_SPOT = model.optimize()"
   ]
  },
  {
   "cell_type": "code",
   "execution_count": null,
   "metadata": {
    "slideshow": {
     "slide_type": "slide"
    }
   },
   "outputs": [],
   "source": [
    "solution_SPOT"
   ]
  },
  {
   "cell_type": "markdown",
   "metadata": {
    "slideshow": {
     "slide_type": "slide"
    }
   },
   "source": [
    "# Tarea\n",
    "\n",
    "Una alternativa a minFlux es [MaxEnt](https://journals.plos.org/plosone/article/authors?id=10.1371/journal.pone.0243067). Al igual que minFlux, MaxEnt también produce una solución única pero no necesita de la definición de una función biológica a optimizar (¿será esto útil para modelar el YMC?). También, MaxEnt es la base de Pheflux (el cual, como SPOT, incorpora información transcriptómica). Para el próximmo jueves proponer una implementación de [MaxEnt](https://journals.plos.org/plosone/article/authors?id=10.1371/journal.pone.0243067) en la red metabólica de *S. cerevisiae*."
   ]
  },
  {
   "cell_type": "code",
   "execution_count": null,
   "metadata": {},
   "outputs": [],
   "source": []
  },
  {
   "cell_type": "code",
   "execution_count": null,
   "metadata": {},
   "outputs": [],
   "source": []
  }
 ],
 "metadata": {
  "celltoolbar": "Slideshow",
  "kernelspec": {
   "display_name": "Python 3",
   "language": "python",
   "name": "python3"
  },
  "language_info": {
   "codemirror_mode": {
    "name": "ipython",
    "version": 3
   },
   "file_extension": ".py",
   "mimetype": "text/x-python",
   "name": "python",
   "nbconvert_exporter": "python",
   "pygments_lexer": "ipython3",
   "version": "3.8.10"
  }
 },
 "nbformat": 4,
 "nbformat_minor": 5
}
